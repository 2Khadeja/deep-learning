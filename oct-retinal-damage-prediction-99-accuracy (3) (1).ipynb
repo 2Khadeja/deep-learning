{
 "cells": [
  {
   "cell_type": "code",
   "execution_count": null,
   "metadata": {
    "id": "VQAiWN6sV17L"
   },
   "outputs": [],
   "source": [
    "import tensorflow as tf"
   ]
  },
  {
   "cell_type": "code",
   "execution_count": null,
   "metadata": {
    "id": "YKrW_spqY1YB",
    "outputId": "fd4389e8-cd3b-480f-98ff-4e207e3c9591"
   },
   "outputs": [],
   "source": [
    "import numpy as np\n",
    "import cv2\n",
    "import os\n",
    "from sklearn.model_selection import train_test_split\n",
    "import matplotlib.pyplot as plt\n",
    "from keras.preprocessing.image import ImageDataGenerator\n",
    "from keras.utils.np_utils import to_categorical\n",
    "from keras.models import Sequential\n",
    "from keras.layers import Dense\n",
    "from keras.optimizers import Adam\n",
    "from keras.layers import Dropout,Flatten\n",
    "from keras.layers.convolutional import Conv2D,MaxPooling2D\n",
    "import pickle"
   ]
  },
  {
   "cell_type": "code",
   "execution_count": null,
   "metadata": {
    "id": "sg5jse8LaTsV"
   },
   "outputs": [],
   "source": [
    "path1 =\"train\"\n",
    "path2 =\"test\"\n",
    "path3 =\"val\"\n",
    "test_ratio=0.2\n",
    "val_ratio=0.2\n",
    "image_size=(128,128,3)"
   ]
  },
  {
   "cell_type": "code",
   "execution_count": null,
   "metadata": {
    "id": "ufsmf55TZBXQ",
    "outputId": "ba872e8f-10f4-403a-d549-0e280a364510"
   },
   "outputs": [],
   "source": [
    "myList = os.listdir(path1)\n",
    "print(\"Total Number of Classes Detected :\",len(myList))"
   ]
  },
  {
   "cell_type": "code",
   "execution_count": null,
   "metadata": {
    "id": "VgP9cRUOag0E"
   },
   "outputs": [],
   "source": [
    "noOfclasses= len(myList)"
   ]
  },
  {
   "cell_type": "code",
   "execution_count": null,
   "metadata": {
    "id": "NVsW5Fe8IRsd",
    "outputId": "aea579d0-806a-4e66-aa16-8e3712ac801f"
   },
   "outputs": [],
   "source": [
    "print(myList)"
   ]
  },
  {
   "cell_type": "code",
   "execution_count": null,
   "metadata": {
    "id": "Wvw3DcELc3mb",
    "outputId": "f6b5f4eb-5d50-4206-d7b0-f42a81b2bf39"
   },
   "outputs": [],
   "source": [
    "print(\"Importing Classes...\")"
   ]
  },
  {
   "cell_type": "code",
   "execution_count": null,
   "metadata": {
    "id": "iswB5dooam5A",
    "outputId": "7811ff3e-ed3a-4626-e998-e73409369a02"
   },
   "outputs": [],
   "source": [
    "images=[]\n",
    "classNo=[]\n",
    "CATEGORIES = ['No_DR','Mild','Moderate','Severe','Proliferate_DR']\n",
    "for x in myList:\n",
    "  myPicList = os.listdir(path1+\"/\"+str(x))\n",
    "  for y in myPicList:\n",
    "    curImg = cv2.imread(path1+\"/\"+str(x)+\"/\"+y)\n",
    "    curImg = cv2.resize(curImg,(image_size[0],image_size[1]))\n",
    "    images.append(curImg)\n",
    "    classNo.append(CATEGORIES.index(x))\n",
    "  print(x,end=\" \")"
   ]
  },
  {
   "cell_type": "code",
   "execution_count": null,
   "metadata": {},
   "outputs": [],
   "source": [
    "x_test=[]\n",
    "y_test=[]\n",
    "CATEGORIES = ['No_DR','Mild','Moderate','Severe','Proliferate_DR']\n",
    "for x in myList:\n",
    "  myPicList = os.listdir(path2+\"/\"+str(x))\n",
    "  for y in myPicList:\n",
    "    curImg = cv2.imread(path2+\"/\"+str(x)+\"/\"+y)\n",
    "    curImg = cv2.resize(curImg,(image_size[0],image_size[1]))\n",
    "    x_test.append(curImg)\n",
    "    y_test.append(CATEGORIES.index(x))\n",
    "  print(x,end=\" \")"
   ]
  },
  {
   "cell_type": "code",
   "execution_count": null,
   "metadata": {},
   "outputs": [],
   "source": [
    "x_val=[]\n",
    "y_val=[]\n",
    "CATEGORIES = ['No_DR','Mild','Moderate','Severe','Proliferate_DR']\n",
    "for x in myList:\n",
    "  myPicList = os.listdir(path3+\"/\"+str(x))\n",
    "  for y in myPicList:\n",
    "    curImg = cv2.imread(path3+\"/\"+str(x)+\"/\"+y)\n",
    "    curImg = cv2.resize(curImg,(image_size[0],image_size[1]))\n",
    "    x_val.append(curImg)\n",
    "    y_val.append(CATEGORIES.index(x))\n",
    "  print(x,end=\" \")"
   ]
  },
  {
   "cell_type": "code",
   "execution_count": null,
   "metadata": {
    "id": "Dp6l2OpNcJ3C",
    "outputId": "d9fa9d6e-44a3-4047-9686-4c9140e1f8b6"
   },
   "outputs": [],
   "source": [
    "print(len(images))\n",
    "print(len(classNo))"
   ]
  },
  {
   "cell_type": "code",
   "execution_count": null,
   "metadata": {
    "id": "3n-hJ1LncPzA"
   },
   "outputs": [],
   "source": [
    "x_train = np.array(images)\n",
    "y_train = np.array(classNo)"
   ]
  },
  {
   "cell_type": "code",
   "execution_count": null,
   "metadata": {},
   "outputs": [],
   "source": [
    "x_test = np.array(x_test)\n",
    "y_test = np.array(y_test)\n",
    "x_val = np.array(x_val)\n",
    "y_val = np.array(y_val)"
   ]
  },
  {
   "cell_type": "code",
   "execution_count": null,
   "metadata": {
    "id": "0XyweeVLdFgX",
    "outputId": "96058436-f5f3-4fe1-fea5-3f66d4d45548"
   },
   "outputs": [],
   "source": [
    "print(x_train.shape)\n",
    "print(x_test.shape)"
   ]
  },
  {
   "cell_type": "markdown",
   "metadata": {
    "id": "KD6ZQVFAdqSU"
   },
   "source": [
    "#Spliting Data"
   ]
  },
  {
   "cell_type": "code",
   "execution_count": null,
   "metadata": {
    "id": "XouWTr72dJS5"
   },
   "outputs": [],
   "source": [
    "#x_train,x_test,y_train,y_test = train_test_split(images,classNo,test_size=test_ratio,random_state = 42,stratify=classNo)\n",
    "#x_train,x_validation,y_train,y_validation = train_test_split(x_train,y_train,test_size=val_ratio,random_state = 42,stratify=y_train)\n"
   ]
  },
  {
   "cell_type": "code",
   "execution_count": null,
   "metadata": {},
   "outputs": [],
   "source": [
    "del images\n",
    "del classNo"
   ]
  },
  {
   "cell_type": "code",
   "execution_count": null,
   "metadata": {
    "id": "qyBxyh4VePnT",
    "outputId": "38c12b58-a73b-4d1f-ddb5-06c77cd14c50"
   },
   "outputs": [],
   "source": [
    "print(x_train.shape)\n",
    "print(x_test.shape)\n",
    "print(x_val.shape)"
   ]
  },
  {
   "cell_type": "code",
   "execution_count": null,
   "metadata": {
    "id": "eWKx2tAMeS_c"
   },
   "outputs": [],
   "source": [
    "numofSamples=[]\n",
    "for x in range(0,noOfclasses):\n",
    "  numofSamples.append(len(np.where(y_train==x)[0]))"
   ]
  },
  {
   "cell_type": "code",
   "execution_count": null,
   "metadata": {
    "id": "NnjhhsLafRE8",
    "outputId": "77e9f104-9b39-4f35-bbd4-8d7458eeaa49"
   },
   "outputs": [],
   "source": [
    "print(numofSamples)"
   ]
  },
  {
   "cell_type": "code",
   "execution_count": null,
   "metadata": {
    "id": "H1TX7WEegBq9",
    "outputId": "bcbf5b5b-5e37-46e9-c173-64f42467eaa3"
   },
   "outputs": [],
   "source": [
    "plt.figure(figsize=(10,5))\n",
    "plt.bar(range(0,noOfclasses),numofSamples)\n",
    "plt.title('No of Images for each Class')\n",
    "plt.xlabel(\"Class ID\")\n",
    "plt.ylabel(\"No of Images\")\n",
    "plt.show()"
   ]
  },
  {
   "cell_type": "code",
   "execution_count": null,
   "metadata": {
    "id": "Pyg6R91C-6tZ",
    "outputId": "306d5804-2ab9-4220-e275-a15fdc67ec13"
   },
   "outputs": [],
   "source": [
    "from imblearn.under_sampling import RandomUnderSampler\n",
    "import pandas as pd\n",
    "import seaborn as sns\n",
    "X_trainShape = x_train.shape[1]*x_train.shape[2]*x_train.shape[3]\n",
    "X_trainFlat = x_train.reshape(x_train.shape[0], X_trainShape)\n",
    "Y_train = y_train\n",
    "ros = RandomUnderSampler()\n",
    "X_trainRos, Y_trainRos = ros.fit_resample(X_trainFlat, Y_train)\n",
    "# Encode labels to hot vectors (ex : 2 -> [0,0,1,0,0,0,0,0,0,0])\n",
    "Y_trainRosHot = to_categorical(Y_trainRos, num_classes = 5)\n",
    "# Make Data 2D again\n",
    "for i in range(len(X_trainRos)):\n",
    "    height, width, channels = image_size[0],image_size[1],3\n",
    "    X_trainRosReshaped = X_trainRos.reshape(len(X_trainRos),height,width,channels)\n",
    "# Plot Label Distribution\n",
    "dfRos = pd.DataFrame()\n",
    "dfRos[\"labels\"]=Y_trainRos\n",
    "labRos = dfRos['labels']\n",
    "sns.countplot(labRos)"
   ]
  },
  {
   "cell_type": "code",
   "execution_count": null,
   "metadata": {
    "id": "kr4hHdmwggNM"
   },
   "outputs": [],
   "source": [
    "def preProcessing(img):\n",
    "    img = cv2.cvtColor(img,cv2.COLOR_BGR2GRAY)\n",
    "    return img"
   ]
  },
  {
   "cell_type": "code",
   "execution_count": null,
   "metadata": {},
   "outputs": [],
   "source": [
    "del x_train\n",
    "del y_train"
   ]
  },
  {
   "cell_type": "code",
   "execution_count": null,
   "metadata": {
    "id": "9LfR2cO_hRqB",
    "outputId": "b7e70f0b-1036-4012-bf65-cc51982fadf0"
   },
   "outputs": [],
   "source": [
    "x_train = np.array(list(map(preProcessing,X_trainRosReshaped)))\n",
    "print(x_train[0].shape)"
   ]
  },
  {
   "cell_type": "code",
   "execution_count": null,
   "metadata": {
    "id": "Zt-I8_81jfzy",
    "outputId": "9d29976d-a894-4075-a011-f57dfe3a1c60"
   },
   "outputs": [],
   "source": [
    "x_test = np.array(list(map(preProcessing,x_test)))\n",
    "print(x_test[0].shape)"
   ]
  },
  {
   "cell_type": "code",
   "execution_count": null,
   "metadata": {
    "id": "4moPaF5Fj1M9"
   },
   "outputs": [],
   "source": [
    "#print(x_validation[0].shape)\n",
    "x_validation = np.array(list(map(preProcessing,x_val)))\n",
    "print(x_validation[0].shape)"
   ]
  },
  {
   "cell_type": "code",
   "execution_count": null,
   "metadata": {
    "id": "uU6tJpdWf0kH",
    "outputId": "b0985720-a6b9-43e6-a25e-229a349cb28b"
   },
   "outputs": [],
   "source": [
    "print(x_train.shape)"
   ]
  },
  {
   "cell_type": "code",
   "execution_count": null,
   "metadata": {
    "id": "Sd269Dmgj8r-",
    "outputId": "642f8f23-d778-4f3b-9305-def97db9b516"
   },
   "outputs": [],
   "source": [
    "X_train = x_train.reshape(x_train.shape[0],x_train.shape[1],x_train.shape[2],1)\n",
    "print(X_train.shape)"
   ]
  },
  {
   "cell_type": "code",
   "execution_count": null,
   "metadata": {
    "id": "jIxkFBAAkaui"
   },
   "outputs": [],
   "source": [
    "X_test = x_test.reshape(x_test.shape[0],x_test.shape[1],x_test.shape[2],1)\n",
    "X_validation = x_validation.reshape(x_validation.shape[0],x_validation.shape[1],x_validation.shape[2],1)"
   ]
  },
  {
   "cell_type": "code",
   "execution_count": null,
   "metadata": {
    "id": "rbzP5J23YSEO"
   },
   "outputs": [],
   "source": [
    "del x_test\n",
    "del x_train\n",
    "del x_validation"
   ]
  },
  {
   "cell_type": "code",
   "execution_count": null,
   "metadata": {
    "id": "kuVQlY9KkpTm",
    "outputId": "901b09f0-ad0f-4f27-a92b-a16670034225"
   },
   "outputs": [],
   "source": [
    "\"\"\"dataGen = ImageDataGenerator(width_shift_range=0.1,\n",
    "                             height_shift_range=0.1,\n",
    "                             zoom_range=0.2,\n",
    "                             shear_range=0.1,\n",
    "                             rotation_range=10)\"\"\""
   ]
  },
  {
   "cell_type": "code",
   "execution_count": null,
   "metadata": {
    "id": "RW0SSljMlNbm"
   },
   "outputs": [],
   "source": [
    "#dataGen.fit(X_train)\n"
   ]
  },
  {
   "cell_type": "code",
   "execution_count": null,
   "metadata": {
    "id": "IWSorGCHlbmh"
   },
   "outputs": [],
   "source": [
    "y_train = to_categorical(Y_trainRos,noOfclasses)\n",
    "y_test = to_categorical(y_test,noOfclasses)\n",
    "y_validation = to_categorical(y_val,noOfclasses)"
   ]
  },
  {
   "cell_type": "code",
   "execution_count": null,
   "metadata": {},
   "outputs": [],
   "source": [
    "class CustomCallback(tf.keras.callbacks.Callback):\n",
    "  def __init__(self,fraction):\n",
    "    super(CustomCallback,self).__init__()\n",
    "    self.fraction = fraction\n",
    "    self.train_a = [];\n",
    "    self.val_a =[];\n",
    "\n",
    "    with open('log.txt','w') as f:\n",
    "      f.write('Starting of logging..\\n')\n",
    "\n",
    "    self.fig = plt.figure(figsize=(4,3))\n",
    "    self.ax = plt.subplot(1,1,1)\n",
    "    plt.ion()\n",
    "\n",
    "  def on_train_begin(self,logs=None):\n",
    "    self.fig.show()\n",
    "    self.fig.canvas.draw()\n",
    "  \n",
    "  def on_train_end(self,logs=None):\n",
    "    with open('log.txt','a') as f:\n",
    "      f.write('End of logging..\\n')\n",
    "  def on_epoch_begin(self,epoch,logs=None):\n",
    "    lr= tf.keras.backend.get_value(self.model.optimizer.lr)\n",
    "    lr *= self.fraction\n",
    "    tf.keras.backend.set_value(self.model.optimizer.lr,lr)\n",
    "    with open('log.txt','a') as f:\n",
    "      f.write('At epoch {:02d}, learning rate changed to {:.4f}\\n'.format(epoch,lr))\n",
    "  def on_epoch_end(self,epoch,logs=None):\n",
    "    val_acc = logs.get('val_accuracy')\n",
    "    train_acc = logs.get('accuracy')\n",
    "    self.train_a.append(train_acc)\n",
    "    self.val_a.append(val_acc)\n",
    "    with open('log.txt','a') as f:\n",
    "        f.write('At epoch {:02d}, training accuracy: {:.3f}, validation accuracy: {:.3f}\\n'.format(epoch,train_acc,val_acc))\n",
    "    self.ax.clear()\n",
    "    self.ax.plot(range(1+epoch),self.train_a,label=\"Training\")\n",
    "    self.ax.plot(range(1+epoch),self.val_a,label=\"Validation\")\n",
    "    self.ax.set_xlabel('Epochs')\n",
    "    self.ax.set_ylabel('Accuracy')\n",
    "    self.ax.legend()\n",
    "    self.fig.canvas.draw()\n",
    "    self.fig.show()"
   ]
  },
  {
   "cell_type": "code",
   "execution_count": null,
   "metadata": {
    "id": "MTiQqVUACoDe"
   },
   "outputs": [],
   "source": [
    "def model():\n",
    "  filters=60\n",
    "  sizeoffilter1 = (5,5)\n",
    "  sizeoffilter2 = (4,4)\n",
    "  sizeoffilter3 = (3,3)\n",
    "  sizeofpool = (2,2)\n",
    "  node=5000\n",
    "\n",
    "  model = Sequential();\n",
    "  model.add((Conv2D(filters,sizeoffilter1,input_shape=(image_size[0],image_size[1],1)\n",
    "  ,activation=\"relu\")))\n",
    "\n",
    "  model.add((Conv2D(filters,sizeoffilter1,activation=\"relu\")))\n",
    "  model.add((Conv2D(filters//2,sizeoffilter2,activation=\"relu\")))\n",
    "  model.add((Conv2D(filters//2,sizeoffilter2,activation=\"relu\")))\n",
    "  model.add(MaxPooling2D(pool_size=sizeofpool))\n",
    "  model.add(Dropout(0.2))\n",
    "\n",
    "  model.add((Conv2D(filters,sizeoffilter1,activation=\"relu\")))\n",
    "  model.add((Conv2D(filters//2,sizeoffilter2,activation=\"relu\")))\n",
    "  model.add((Conv2D(filters//2,sizeoffilter2,activation=\"relu\")))\n",
    "  model.add(MaxPooling2D(pool_size=sizeofpool))\n",
    "  model.add(Dropout(0.2))\n",
    "\n",
    "  model.add((Conv2D(filters,sizeoffilter2,activation=\"relu\")))\n",
    "  model.add(MaxPooling2D(pool_size=sizeofpool))\n",
    "  model.add((Conv2D(filters//2,sizeoffilter3,activation=\"relu\")))\n",
    "  model.add((Conv2D(filters//2,sizeoffilter3,activation=\"relu\")))\n",
    "  model.add(MaxPooling2D(pool_size=sizeofpool))\n",
    "  model.add(Dropout(0.2))\n",
    "\n",
    "  model.add(Flatten())\n",
    "  model.add(Dense(node,activation=\"relu\"))\n",
    "  model.add(Dropout(0.2))\n",
    "  model.add(Dense(noOfclasses,activation=\"softmax\"))\n",
    "\n",
    "  model.compile(Adam(lr=0.001),loss=\"categorical_crossentropy\",metrics=['accuracy'])\n",
    "  model.save('retinopathy-CNN.model')\n",
    "  return model\n",
    "  \n",
    "model=model()"
   ]
  },
  {
   "cell_type": "code",
   "execution_count": null,
   "metadata": {
    "id": "wou70iF8oB70",
    "outputId": "09510520-7db8-4f88-dff0-98dc670daa40"
   },
   "outputs": [],
   "source": [
    "model.summary()"
   ]
  },
  {
   "cell_type": "code",
   "execution_count": null,
   "metadata": {
    "id": "whI_sq_1uQt4"
   },
   "outputs": [],
   "source": [
    "os.environ[\"CUDA_VISIBLE_DEVICES\"]=\"0\""
   ]
  },
  {
   "cell_type": "code",
   "execution_count": null,
   "metadata": {
    "id": "QY9DvWaFFm6i",
    "outputId": "4e0fe787-c65f-410c-a87e-77685b583339"
   },
   "outputs": [],
   "source": [
    "\n",
    "history = model.fit(X_train,Y_trainRosHot,epochs=50,validation_data =(X_validation,y_validation) ,batch_size=256,\n",
    "                    shuffle=True,\n",
    "                    max_queue_size=20,\n",
    "                    use_multiprocessing=True,\n",
    "                    workers=1,\n",
    "                   callbacks=[CustomCallback(fraction=0.9)])"
   ]
  },
  {
   "cell_type": "code",
   "execution_count": null,
   "metadata": {
    "id": "l7UURWLipLNu",
    "outputId": "cecfdbcb-b448-4afd-aa80-dec75b7ab077"
   },
   "outputs": [],
   "source": [
    "plt.figure(1)\n",
    "plt.plot(history.history['loss'])\n",
    "plt.plot(history.history['val_loss'])\n",
    "plt.legend(['training','validation'])\n",
    "plt.title('Loss')\n",
    "plt.xlabel('epoch')\n",
    "plt.figure(2)\n",
    "plt.plot(history.history['accuracy'])\n",
    "plt.plot(history.history['val_accuracy'])\n",
    "plt.legend(['training','validation'])\n",
    "plt.title('Accuracy')\n",
    "plt.xlabel('epoch')\n",
    "plt.show()\n"
   ]
  },
  {
   "cell_type": "code",
   "execution_count": null,
   "metadata": {
    "id": "FLM0qqM0qIXr",
    "outputId": "c033b748-6b94-4aef-a2a2-e3461b117c7d"
   },
   "outputs": [],
   "source": [
    "score = model.evaluate(X_test,y_test,verbose=0)\n",
    "print('Test Score = ',score[0])\n",
    "print('Test Accuracy = ',score[1])"
   ]
  },
  {
   "cell_type": "code",
   "execution_count": null,
   "metadata": {
    "id": "W2jsX4DLqtjN"
   },
   "outputs": [],
   "source": [
    "model.save('model5_3000trained100.model')"
   ]
  }
 ],
 "metadata": {
  "kernelspec": {
   "display_name": "Python 3.9.0 64-bit",
   "language": "python",
   "name": "python3"
  },
  "language_info": {
   "codemirror_mode": {
    "name": "ipython",
    "version": 3
   },
   "file_extension": ".py",
   "mimetype": "text/x-python",
   "name": "python",
   "nbconvert_exporter": "python",
   "pygments_lexer": "ipython3",
   "version": "3.9.0"
  },
  "vscode": {
   "interpreter": {
    "hash": "bb2df349fc610f5a4f68412f2f2b7a0b41a4ba7a742dcc5eae6de90313104b09"
   }
  }
 },
 "nbformat": 4,
 "nbformat_minor": 4
}
